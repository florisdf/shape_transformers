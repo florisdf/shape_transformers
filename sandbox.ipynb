{
 "cells": [
  {
   "cell_type": "code",
   "execution_count": 1,
   "id": "f15d52f8",
   "metadata": {},
   "outputs": [],
   "source": [
    "from shape_transformer import ShapeTransformerEncoder, ShapeTransformerDecoder"
   ]
  },
  {
   "cell_type": "code",
   "execution_count": 2,
   "id": "bfd699b5",
   "metadata": {},
   "outputs": [],
   "source": [
    "encoder = ShapeTransformerEncoder().eval()\n",
    "decoder = ShapeTransformerDecoder().eval()"
   ]
  },
  {
   "cell_type": "code",
   "execution_count": 3,
   "id": "47a734a7",
   "metadata": {},
   "outputs": [],
   "source": [
    "import torch\n",
    "\n",
    "input_shape = (1, 200, 3)\n",
    "\n",
    "positions = torch.randn(input_shape)\n",
    "offsets = torch.randn(input_shape)\n",
    "\n",
    "with torch.no_grad():\n",
    "    shape_code = encoder(positions, offsets)\n",
    "    out_offsets = decoder(positions, shape_code)"
   ]
  },
  {
   "cell_type": "code",
   "execution_count": 4,
   "id": "17ea95a4",
   "metadata": {},
   "outputs": [],
   "source": [
    "positions_flipped = torch.flip(positions, dims=[1])\n",
    "offsets_flipped = torch.flip(offsets, dims=[1])\n",
    "\n",
    "with torch.no_grad():\n",
    "    shape_code_flipped = encoder(positions_flipped, offsets_flipped)\n",
    "    out_offsets_flipped = decoder(positions_flipped, shape_code_flipped)"
   ]
  },
  {
   "cell_type": "code",
   "execution_count": null,
   "id": "fa53389e",
   "metadata": {},
   "outputs": [],
   "source": []
  }
 ],
 "metadata": {
  "kernelspec": {
   "display_name": "Python 3 (ipykernel)",
   "language": "python",
   "name": "python3"
  },
  "language_info": {
   "codemirror_mode": {
    "name": "ipython",
    "version": 3
   },
   "file_extension": ".py",
   "mimetype": "text/x-python",
   "name": "python",
   "nbconvert_exporter": "python",
   "pygments_lexer": "ipython3",
   "version": "3.9.15"
  }
 },
 "nbformat": 4,
 "nbformat_minor": 5
}
