{
 "cells": [
  {
   "cell_type": "code",
   "execution_count": 1,
   "id": "ada5e293",
   "metadata": {},
   "outputs": [],
   "source": [
    "import sys;  sys.path.append('..')"
   ]
  },
  {
   "cell_type": "code",
   "execution_count": 2,
   "id": "6f07e540",
   "metadata": {},
   "outputs": [],
   "source": [
    "from shape_transformers.dataset.nphm_dataset import NPHMDataset\n",
    "from pathlib import Path\n",
    "\n",
    "data_path = Path('/apollo/datasets/NPHM/')\n",
    "ds_train = NPHMDataset(data_path, subset='train')"
   ]
  },
  {
   "cell_type": "code",
   "execution_count": 3,
   "id": "913aafa2",
   "metadata": {},
   "outputs": [],
   "source": [
    "from torch.utils.data import DataLoader"
   ]
  },
  {
   "cell_type": "code",
   "execution_count": 4,
   "id": "5b26ce5d",
   "metadata": {},
   "outputs": [],
   "source": [
    "batch_size = 128\n",
    "\n",
    "dl_train = DataLoader(\n",
    "    ds_train,\n",
    "    batch_size=batch_size,\n",
    "    num_workers=8\n",
    ")"
   ]
  },
  {
   "cell_type": "code",
   "execution_count": 5,
   "id": "62ef1179",
   "metadata": {},
   "outputs": [],
   "source": [
    "def agg_means(means, batch_size, last_batch_size):\n",
    "    return (\n",
    "        torch.sum(means[:-1, ...] * batch_size / len(ds_train), dim=0)\n",
    "        + (last_batch_size / len(ds_train)) * means[-1, ...]\n",
    "    )"
   ]
  },
  {
   "cell_type": "code",
   "execution_count": 6,
   "id": "19fc7429",
   "metadata": {},
   "outputs": [
    {
     "data": {
      "application/vnd.jupyter.widget-view+json": {
       "model_id": "2c00f6eee6fa4fa5b71471c8b6b7a4e0",
       "version_major": 2,
       "version_minor": 0
      },
      "text/plain": [
       "  0%|          | 0/41 [00:00<?, ?it/s]"
      ]
     },
     "metadata": {},
     "output_type": "display_data"
    }
   ],
   "source": [
    "from tqdm.notebook import tqdm\n",
    "import torch\n",
    "\n",
    "v_means = []\n",
    "\n",
    "for verts, faces, ids in tqdm(dl_train):\n",
    "    verts = verts.to('cuda')\n",
    "    v_means.append(\n",
    "        verts.mean(dim=0)\n",
    "    )\n",
    "    last_batch_size = len(verts)\n",
    "\n",
    "v_means = torch.stack(v_means)\n",
    "v_mean = agg_means(v_means, batch_size, last_batch_size)"
   ]
  },
  {
   "cell_type": "code",
   "execution_count": 7,
   "id": "8f9c7248",
   "metadata": {},
   "outputs": [
    {
     "data": {
      "application/vnd.jupyter.widget-view+json": {
       "model_id": "6ebdb734032e42758f4615ffdab65704",
       "version_major": 2,
       "version_minor": 0
      },
      "text/plain": [
       "  0%|          | 0/41 [00:00<?, ?it/s]"
      ]
     },
     "metadata": {},
     "output_type": "display_data"
    }
   ],
   "source": [
    "v_vars = []\n",
    "\n",
    "for verts, faces, ids in tqdm(dl_train):\n",
    "    verts = verts.to('cuda')\n",
    "    v_vars.append(\n",
    "        (verts - v_mean).pow(2).mean(dim=0)\n",
    "    )\n",
    "    last_batch_size = len(verts)\n",
    "\n",
    "v_vars = torch.stack(v_vars)\n",
    "v_std = torch.sqrt(agg_means(v_vars, batch_size, last_batch_size))"
   ]
  },
  {
   "cell_type": "code",
   "execution_count": 8,
   "id": "995fb1ae",
   "metadata": {},
   "outputs": [],
   "source": [
    "v_mean = v_mean.cpu().numpy()\n",
    "v_std = v_std.cpu().numpy()"
   ]
  },
  {
   "cell_type": "code",
   "execution_count": 9,
   "id": "8946decb",
   "metadata": {},
   "outputs": [],
   "source": [
    "import numpy as np\n",
    "\n",
    "np.save('../shape_transformers/dataset/nphm_mean_vertices.npy', v_mean)\n",
    "np.save('../shape_transformers/dataset/nphm_std_vertices.npy', v_std)"
   ]
  },
  {
   "cell_type": "code",
   "execution_count": null,
   "id": "344eaa38",
   "metadata": {},
   "outputs": [],
   "source": []
  }
 ],
 "metadata": {
  "kernelspec": {
   "display_name": "Python 3 (ipykernel)",
   "language": "python",
   "name": "python3"
  },
  "language_info": {
   "codemirror_mode": {
    "name": "ipython",
    "version": 3
   },
   "file_extension": ".py",
   "mimetype": "text/x-python",
   "name": "python",
   "nbconvert_exporter": "python",
   "pygments_lexer": "ipython3",
   "version": "3.9.15"
  }
 },
 "nbformat": 4,
 "nbformat_minor": 5
}
