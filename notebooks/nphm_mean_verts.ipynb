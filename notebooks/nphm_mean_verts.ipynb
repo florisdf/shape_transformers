{
 "cells": [
  {
   "cell_type": "code",
   "execution_count": null,
   "id": "6f07e540",
   "metadata": {},
   "outputs": [],
   "source": [
    "from nphm_dataset import NPHMDataset\n",
    "from pathlib import Path\n",
    "\n",
    "data_path = Path('/apollo/datasets/NPHM/train/')\n",
    "ds_train = NPHMDataset(data_path, subset='train')"
   ]
  },
  {
   "cell_type": "code",
   "execution_count": null,
   "id": "913aafa2",
   "metadata": {},
   "outputs": [],
   "source": [
    "from torch.utils.data import DataLoader"
   ]
  },
  {
   "cell_type": "code",
   "execution_count": null,
   "id": "5b26ce5d",
   "metadata": {},
   "outputs": [],
   "source": [
    "batch_size = 128\n",
    "\n",
    "dl_train = DataLoader(\n",
    "    ds_train,\n",
    "    batch_size=batch_size,\n",
    "    num_workers=8\n",
    ")"
   ]
  },
  {
   "cell_type": "code",
   "execution_count": null,
   "id": "98c6b444",
   "metadata": {},
   "outputs": [],
   "source": [
    "from tqdm.notebook import tqdm\n",
    "import torch\n",
    "\n",
    "pos_means = []\n",
    "v_off_means = []\n",
    "v_off_vars = []\n",
    "\n",
    "for v_off, pos, ids in tqdm(dl_train):\n",
    "    pos = pos.to('cuda')\n",
    "    v_off = v_off.to('cuda')\n",
    "    pos_means.append(\n",
    "        pos.mean(dim=0)\n",
    "    )\n",
    "    v_off_means.append(\n",
    "        v_off.mean(dim=0)\n",
    "    )\n",
    "    v_off_vars.append(\n",
    "        v_off.std(dim=0).pow(2)\n",
    "    )\n",
    "    last_batch_size = len(v_off)\n",
    "\n",
    "pos_means = torch.stack(pos_means)\n",
    "v_off_means = torch.stack(v_off_means)\n",
    "v_off_vars = torch.stack(v_off_vars)\n",
    "\n",
    "def agg_means(means):\n",
    "    return (torch.sum(means[:-1, ...], dim=0) + (last_batch_size / batch_size) * means[-1, ...])/len(means)\n",
    "\n",
    "\n",
    "pos_mean = agg_means(pos_means)\n",
    "v_off_mean = agg_means(v_off_means)\n",
    "v_off_std = torch.sqrt(agg_means(v_off_vars))"
   ]
  },
  {
   "cell_type": "code",
   "execution_count": null,
   "id": "8946decb",
   "metadata": {},
   "outputs": [],
   "source": [
    "import numpy as np\n",
    "\n",
    "np.save('nphm_mean_vertices.npy', pos_mean.cpu().numpy())\n",
    "np.save('nphm_mean_offsets.npy', v_off_mean.cpu().numpy())\n",
    "np.save('nphm_std_offsets.npy', v_off_std.cpu().numpy())"
   ]
  }
 ],
 "metadata": {
  "kernelspec": {
   "display_name": "Python 3 (ipykernel)",
   "language": "python",
   "name": "python3"
  },
  "language_info": {
   "codemirror_mode": {
    "name": "ipython",
    "version": 3
   },
   "file_extension": ".py",
   "mimetype": "text/x-python",
   "name": "python",
   "nbconvert_exporter": "python",
   "pygments_lexer": "ipython3",
   "version": "3.9.15"
  }
 },
 "nbformat": 4,
 "nbformat_minor": 5
}
