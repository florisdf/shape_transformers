{
 "cells": [
  {
   "cell_type": "code",
   "execution_count": 1,
   "id": "6f07e540",
   "metadata": {},
   "outputs": [],
   "source": [
    "import sys;  sys.path.append('..')\n",
    "from nphm_dataset import NPHMDataset\n",
    "from pathlib import Path\n",
    "\n",
    "data_path = Path('/apollo/datasets/NPHM/')\n",
    "ds_train = NPHMDataset(data_path, subset='train')"
   ]
  },
  {
   "cell_type": "code",
   "execution_count": 2,
   "id": "913aafa2",
   "metadata": {},
   "outputs": [],
   "source": [
    "from torch.utils.data import DataLoader"
   ]
  },
  {
   "cell_type": "code",
   "execution_count": 3,
   "id": "5b26ce5d",
   "metadata": {},
   "outputs": [],
   "source": [
    "batch_size = 128\n",
    "\n",
    "dl_train = DataLoader(\n",
    "    ds_train,\n",
    "    batch_size=batch_size,\n",
    "    num_workers=8\n",
    ")"
   ]
  },
  {
   "cell_type": "code",
   "execution_count": 4,
   "id": "d1a0ca1a",
   "metadata": {},
   "outputs": [],
   "source": [
    "def agg_means(means, batch_size, last_batch_size):\n",
    "    return (torch.sum(means[:-1, ...], dim=0) + (last_batch_size / batch_size) * means[-1, ...])/len(means)"
   ]
  },
  {
   "cell_type": "code",
   "execution_count": 5,
   "id": "03aaf97f",
   "metadata": {},
   "outputs": [
    {
     "data": {
      "application/vnd.jupyter.widget-view+json": {
       "model_id": "53b22f5289f34f42bcb91f7571e33035",
       "version_major": 2,
       "version_minor": 0
      },
      "text/plain": [
       "  0%|          | 0/41 [00:00<?, ?it/s]"
      ]
     },
     "metadata": {},
     "output_type": "display_data"
    }
   ],
   "source": [
    "from tqdm.notebook import tqdm\n",
    "import torch\n",
    "\n",
    "pos_means = []\n",
    "\n",
    "for v_off, pos, ids in tqdm(dl_train):\n",
    "    pos = pos.to('cuda')\n",
    "    pos_means.append(\n",
    "        pos.mean(dim=0)\n",
    "    )\n",
    "    last_batch_size = len(pos)\n",
    "\n",
    "pos_means = torch.stack(pos_means)\n",
    "pos_mean = agg_means(pos_means, batch_size, last_batch_size)"
   ]
  },
  {
   "cell_type": "code",
   "execution_count": 6,
   "id": "2a2705f0",
   "metadata": {},
   "outputs": [
    {
     "data": {
      "application/vnd.jupyter.widget-view+json": {
       "model_id": "739c52e529b64460b86d368712e0f6c7",
       "version_major": 2,
       "version_minor": 0
      },
      "text/plain": [
       "  0%|          | 0/41 [00:00<?, ?it/s]"
      ]
     },
     "metadata": {},
     "output_type": "display_data"
    }
   ],
   "source": [
    "pos_vars = []\n",
    "\n",
    "for v_off, pos, ids in tqdm(dl_train):\n",
    "    pos = pos.to('cuda')\n",
    "    pos_vars.append(\n",
    "        (pos - pos_mean).pow(2).mean(dim=0)\n",
    "    )\n",
    "    last_batch_size = len(pos)\n",
    "\n",
    "pos_vars = torch.stack(pos_vars)\n",
    "pos_std = torch.sqrt(agg_means(pos_vars, batch_size, last_batch_size))"
   ]
  },
  {
   "cell_type": "code",
   "execution_count": 7,
   "id": "8946decb",
   "metadata": {},
   "outputs": [],
   "source": [
    "import numpy as np\n",
    "\n",
    "np.save('nphm_mean_vertices.npy', pos_mean.cpu().numpy())\n",
    "np.save('nphm_std_vertices.npy', pos_std.cpu().numpy())"
   ]
  }
 ],
 "metadata": {
  "kernelspec": {
   "display_name": "Python 3 (ipykernel)",
   "language": "python",
   "name": "python3"
  },
  "language_info": {
   "codemirror_mode": {
    "name": "ipython",
    "version": 3
   },
   "file_extension": ".py",
   "mimetype": "text/x-python",
   "name": "python",
   "nbconvert_exporter": "python",
   "pygments_lexer": "ipython3",
   "version": "3.9.15"
  }
 },
 "nbformat": 4,
 "nbformat_minor": 5
}
