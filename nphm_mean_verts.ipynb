{
 "cells": [
  {
   "cell_type": "code",
   "execution_count": null,
   "id": "6f07e540",
   "metadata": {},
   "outputs": [],
   "source": [
    "from nphm_dataset import NPHMDataset\n",
    "from pathlib import Path\n",
    "\n",
    "data_path = Path('/apollo/datasets/NPHM/train/')\n",
    "ds_train = NPHMDataset(data_path, subset='train')"
   ]
  },
  {
   "cell_type": "code",
   "execution_count": null,
   "id": "913aafa2",
   "metadata": {},
   "outputs": [],
   "source": [
    "from torch.utils.data import DataLoader"
   ]
  },
  {
   "cell_type": "code",
   "execution_count": null,
   "id": "5b26ce5d",
   "metadata": {},
   "outputs": [],
   "source": [
    "batch_size = 128\n",
    "\n",
    "dl_train = DataLoader(\n",
    "    ds_train,\n",
    "    batch_size=batch_size,\n",
    "    num_workers=8\n",
    ")"
   ]
  },
  {
   "cell_type": "code",
   "execution_count": null,
   "id": "98c6b444",
   "metadata": {},
   "outputs": [],
   "source": [
    "from tqdm.notebook import tqdm\n",
    "import torch\n",
    "\n",
    "means = []\n",
    "\n",
    "for verts, faces, ids in tqdm(dl_train):\n",
    "    verts = verts.to('cuda')\n",
    "    means.append(verts.mean(dim=0))\n",
    "\n",
    "means = torch.stack(means)\n",
    "\n",
    "verts_mean = (torch.sum(means[:-1, ...], dim=0) + (verts.shape[0] / batch_size) * means[-1, ...])/len(means)"
   ]
  },
  {
   "cell_type": "code",
   "execution_count": null,
   "id": "a7d7d141",
   "metadata": {},
   "outputs": [],
   "source": [
    "NUM_POINTS = 1000\n",
    "idx = torch.randperm(verts_mean.size(0))[:NUM_POINTS]\n",
    "samples = verts_mean[idx]"
   ]
  },
  {
   "cell_type": "code",
   "execution_count": null,
   "id": "4f72c91f",
   "metadata": {},
   "outputs": [],
   "source": [
    "verts_mean_np = verts_mean.cpu().numpy()"
   ]
  },
  {
   "cell_type": "code",
   "execution_count": null,
   "id": "8946decb",
   "metadata": {},
   "outputs": [],
   "source": [
    "import numpy as np\n",
    "\n",
    "np.save('nphm_mean_vertices.npy', verts_mean_np)"
   ]
  }
 ],
 "metadata": {
  "kernelspec": {
   "display_name": "Python 3 (ipykernel)",
   "language": "python",
   "name": "python3"
  },
  "language_info": {
   "codemirror_mode": {
    "name": "ipython",
    "version": 3
   },
   "file_extension": ".py",
   "mimetype": "text/x-python",
   "name": "python",
   "nbconvert_exporter": "python",
   "pygments_lexer": "ipython3",
   "version": "3.8.13"
  }
 },
 "nbformat": 4,
 "nbformat_minor": 5
}
